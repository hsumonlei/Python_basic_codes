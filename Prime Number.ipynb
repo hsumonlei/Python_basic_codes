{
 "cells": [
  {
   "cell_type": "code",
   "execution_count": 2,
   "id": "95666e7e",
   "metadata": {},
   "outputs": [
    {
     "name": "stdout",
     "output_type": "stream",
     "text": [
      "Enter two numbers to define range for finding prime numbers \n",
      "Lower number : 0\n",
      "Upper number :100\n",
      "[2, 3, 5, 7, 11, 13, 17, 19, 23, 29, 31, 37, 41, 43, 47, 53, 59, 61, 67, 71, 73, 79, 83, 89, 97]\n",
      "Enter a number :9\n",
      "It is a prime number\n",
      "It is not a prime number\n"
     ]
    }
   ],
   "source": [
    "#Finding Prime Numbers in range\n",
    "\n",
    "#2,3,5,7,11,13,... Prime Numbers\n",
    "#A prime number is a natural number greater than 1 that can only be divided by itself and 1\n",
    "\n",
    "\n",
    "print(\"Enter two numbers to define range for finding prime numbers \")\n",
    "low = int(input(\"Lower number : \"))\n",
    "up = int(input(\"Upper number :\")) \n",
    "\n",
    "arr = []\n",
    "\n",
    "\n",
    "for i in range(low, up):\n",
    "    if i > 1:\n",
    "        for d in range(2,i):\n",
    "            if i % d == 0:\n",
    "                break\n",
    "        else:\n",
    "            arr.append(i)\n",
    "\n",
    "print(arr)    \n",
    "\n",
    "#check for prime number\n",
    "key = int(input(\"Enter a number :\"))\n",
    "if key <= 1:\n",
    "    print(\"It is not a prime number\")\n",
    "else:\n",
    "    for i in range(2,key):\n",
    "        if key % i == 0:\n",
    "            print(\"It is not a prime number\")\n",
    "            break\n",
    "        else:\n",
    "            print(\"It is a prime number\")\n",
    "            \n"
   ]
  },
  {
   "cell_type": "code",
   "execution_count": null,
   "id": "e22f8cc9",
   "metadata": {},
   "outputs": [],
   "source": []
  }
 ],
 "metadata": {
  "kernelspec": {
   "display_name": "Python 3",
   "language": "python",
   "name": "python3"
  },
  "language_info": {
   "codemirror_mode": {
    "name": "ipython",
    "version": 3
   },
   "file_extension": ".py",
   "mimetype": "text/x-python",
   "name": "python",
   "nbconvert_exporter": "python",
   "pygments_lexer": "ipython3",
   "version": "3.7.4"
  }
 },
 "nbformat": 4,
 "nbformat_minor": 5
}
