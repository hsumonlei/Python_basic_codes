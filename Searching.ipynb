{
 "cells": [
  {
   "cell_type": "markdown",
   "id": "3f082988",
   "metadata": {},
   "source": [
    "**Linear Search**"
   ]
  },
  {
   "cell_type": "code",
   "execution_count": 17,
   "id": "8ded039f",
   "metadata": {},
   "outputs": [
    {
     "name": "stdout",
     "output_type": "stream",
     "text": [
      "Enter your search key :2\n",
      "Element 2 is present at index  6\n"
     ]
    }
   ],
   "source": [
    "# Problem: Given an array arr[] of n elements, write a function to search a given element x in arr[].\n",
    "\n",
    "#Linear Search Algorithm Flow\n",
    "\n",
    "# A simple approach is to do a linear search, i.e  \n",
    "\n",
    "# Start from the leftmost element of arr[] and one by one compare x with each element of arr[]\n",
    "# If x matches with an element, return the index.\n",
    "# If x doesn’t match with any of elements, return -1.\n",
    "\n",
    "\n",
    "def linear_search(search_key):\n",
    "    position = -1\n",
    "    array = [1,3,4,7,9,11,2,8,5];\n",
    "    \n",
    "    for i in range(0,len(array)):\n",
    "         #print(array[i] == search_key)\n",
    "         if(search_key ==  array[i]):   \n",
    "            position = i\n",
    "            break\n",
    "         else:\n",
    "            position = -1\n",
    "        \n",
    "    #print(position)\n",
    "    return position\n",
    "    \n",
    "\n",
    "    \n",
    "key = int(input(\"Enter your search key :\"))\n",
    "output = linear_search(key)\n",
    "\n",
    "if (output != -1):\n",
    "    print(\"Element\",key,\"is present at index \",output)\n",
    "else: \n",
    "    print(\"Element\",key,\"is not present in an array\")"
   ]
  },
  {
   "cell_type": "markdown",
   "id": "48636491",
   "metadata": {},
   "source": [
    "The **time complexity** of the above(Linear Search also called sequential search) algorithm is\n",
    "Worst case - **O(n)**\n",
    "Best case - O(1)\n",
    "Avg case - O(n)\n",
    "\n",
    "The space complexity\n",
    "Worst case - O(1)\n",
    "\n",
    "Note - Linear search is rarely used practically because other search algorithms such as the binary search algorithm and hash tables allow significantly faster-searching comparison to Linear search."
   ]
  },
  {
   "cell_type": "markdown",
   "id": "eb2e7d91",
   "metadata": {},
   "source": [
    " **Binary Search**"
   ]
  },
  {
   "cell_type": "markdown",
   "id": "69b3f8ad",
   "metadata": {},
   "source": [
    "Binary Search Approach: \n",
    "\n",
    "Binary Search is a searching algorithm **used in a sorted array**\n",
    "by repeatedly dividing the search interval in half. \n",
    "The idea of binary search is to use the information that the array is sorted and reduce the time complexity to O(Log n). "
   ]
  },
  {
   "cell_type": "code",
   "execution_count": 25,
   "id": "fe0594db",
   "metadata": {},
   "outputs": [
    {
     "name": "stdout",
     "output_type": "stream",
     "text": [
      "Enter your search key :12\n",
      "Element 12 is not present in an array\n"
     ]
    }
   ],
   "source": [
    "# Problem: Given a sorted array arr[] of n elements, write a function to search a given element x in arr[].\n",
    "\n",
    "# The basic steps to perform Binary Search are:\n",
    "\n",
    "# Begin with an interval covering the whole array.\n",
    "# If the value of the search key is less than the item in the middle of the interval, narrow the interval to the lower half.\n",
    "# Otherwise, narrow it to the upper half.\n",
    "# Repeatedly check until the value is found or the interval is empty.\n",
    "#=============================================================================================\n",
    "\n",
    "# Step-by-step Binary Search Algorithm: We basically ignore half of the elements just after one comparison.\n",
    "\n",
    "# Compare x with the middle element.\n",
    "# If x matches with the middle element, we return the mid index.\n",
    "# Else If x is greater than the mid element, then x can only lie in the right half subarray after the mid element. \n",
    "#So we recur for the right half.\n",
    "# Else (x is smaller) recur for the left half.\n",
    "\n",
    "\n",
    "#we need to find middle index\n",
    "#1. int mid = (low + high) /2 ; \n",
    "#(it contains bugs if the sum of low and high is greater than the maximum positive int value(2^31 – 1 ).\n",
    "#The sum overflows to a negative value and the value stays negative when divided by 2.)\n",
    "\n",
    "#2. int mid = low + (high – low)/2;\n",
    "# So it’s better to use it like this. This bug applies equally to merge sort and other divide and conquer algorithms.\n",
    "\n",
    "def binary_search(search_key):\n",
    "    array = [1,2,3,4,5,7,8,9,11]; #array must be sorted\n",
    "    high = len(array)-1\n",
    "    #print(\"High index\",high)\n",
    "    low = 0\n",
    "    \n",
    "    while low <= high :\n",
    "        mid = int(low + (high - low)/2) ;\n",
    "        #print(\"Middle index\",mid)\n",
    "        #print(search_key == array[mid])\n",
    "        if(search_key == array[mid]) :\n",
    "            return mid\n",
    "        elif(search_key > array[mid]):\n",
    "            low = mid+1\n",
    "        else:\n",
    "            high = mid-1\n",
    "    # If we reach here, then the element was not present\n",
    "    return -1\n",
    "\n",
    "        \n",
    "    \n",
    "    \n",
    "\n",
    "    \n",
    "\n",
    "    \n",
    "key = int(input(\"Enter your search key :\"))\n",
    "output = binary_search(key)\n",
    "if (output != -1):\n",
    "    print(\"Element\",key,\"is present at index \",output)\n",
    "else: \n",
    "    print(\"Element\",key,\"is not present in an array\")\n"
   ]
  },
  {
   "cell_type": "markdown",
   "id": "a9328f13",
   "metadata": {},
   "source": [
    "The **time complexity of the above(Binary Search)** algorithm is Worst case - **O(logn)** Best case - O(1) Avg case - O(logn)\n",
    "\n",
    "The space complexity Worst case - O(1)"
   ]
  },
  {
   "cell_type": "code",
   "execution_count": null,
   "id": "d7dddc1b",
   "metadata": {},
   "outputs": [],
   "source": []
  }
 ],
 "metadata": {
  "kernelspec": {
   "display_name": "Python 3",
   "language": "python",
   "name": "python3"
  },
  "language_info": {
   "codemirror_mode": {
    "name": "ipython",
    "version": 3
   },
   "file_extension": ".py",
   "mimetype": "text/x-python",
   "name": "python",
   "nbconvert_exporter": "python",
   "pygments_lexer": "ipython3",
   "version": "3.7.4"
  }
 },
 "nbformat": 4,
 "nbformat_minor": 5
}
