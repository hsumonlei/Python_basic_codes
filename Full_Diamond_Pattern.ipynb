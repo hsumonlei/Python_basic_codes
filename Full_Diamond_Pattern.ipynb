{
 "cells": [
  {
   "cell_type": "code",
   "execution_count": 1,
   "id": "8e894c60",
   "metadata": {},
   "outputs": [
    {
     "name": "stdout",
     "output_type": "stream",
     "text": [
      "Enter Number of Rows for your Diamond Pattern = 6\n"
     ]
    }
   ],
   "source": [
    "rows = int (input(\"Enter Number of Rows for your Diamond Pattern = \"))"
   ]
  },
  {
   "cell_type": "code",
   "execution_count": 2,
   "id": "b3b0ae8f",
   "metadata": {},
   "outputs": [
    {
     "name": "stdout",
     "output_type": "stream",
     "text": [
      "Enter special character do you want to make diamond pattern = *\n"
     ]
    }
   ],
   "source": [
    "special_char = input(\"Enter special character do you want to make diamond pattern = \")"
   ]
  },
  {
   "cell_type": "code",
   "execution_count": 13,
   "id": "11a81931",
   "metadata": {},
   "outputs": [
    {
     "name": "stdout",
     "output_type": "stream",
     "text": [
      "     *\n",
      "    ***\n",
      "   *****\n",
      "  *******\n",
      " *********\n",
      "***********\n"
     ]
    }
   ],
   "source": [
    "for i in range(1, rows+1):\n",
    "    for j in range (1, rows - i +1):\n",
    "        print(end = ' ')\n",
    "    for k in range(0, 2* i -1):\n",
    "        print(special_char, end = '')\n",
    "    print()\n"
   ]
  },
  {
   "cell_type": "code",
   "execution_count": 14,
   "id": "ecca4664",
   "metadata": {},
   "outputs": [],
   "source": [
    "def upper_triangle(r,s):\n",
    "    for i in range(1, r+1):\n",
    "        for j in range (1, r - i +1):\n",
    "            print(end = ' ')\n",
    "        for k in range(0, 2* i -1):\n",
    "            print(s, end = '')\n",
    "        print()\n",
    "    "
   ]
  },
  {
   "cell_type": "code",
   "execution_count": 16,
   "id": "3b3ade13",
   "metadata": {},
   "outputs": [
    {
     "name": "stdout",
     "output_type": "stream",
     "text": [
      " *********\n",
      "  *******\n",
      "   *****\n",
      "    ***\n",
      "     *\n"
     ]
    }
   ],
   "source": [
    "for x in range(1,rows):\n",
    "    for y in range(1, x+1):\n",
    "        print(end = ' ')\n",
    "    for z in range(1, (2 * (rows - x))):\n",
    "        print(special_char, end = '')\n",
    "    print()"
   ]
  },
  {
   "cell_type": "code",
   "execution_count": 17,
   "id": "fb3a2f0d",
   "metadata": {},
   "outputs": [],
   "source": [
    "def lower_triangle(r,s):\n",
    "    for x in range(1,r):\n",
    "        for y in range(1, x+1):\n",
    "            print(end = ' ')\n",
    "        for z in range(1, (2 * (r - x))):\n",
    "            print(s, end = '')\n",
    "        print()\n",
    "    "
   ]
  },
  {
   "cell_type": "code",
   "execution_count": 18,
   "id": "0df13ef9",
   "metadata": {},
   "outputs": [
    {
     "name": "stdout",
     "output_type": "stream",
     "text": [
      "Pattern Rows =  6\n",
      "Diamond  *  Pattern\n",
      "     *\n",
      "    ***\n",
      "   *****\n",
      "  *******\n",
      " *********\n",
      "***********\n",
      " *********\n",
      "  *******\n",
      "   *****\n",
      "    ***\n",
      "     *\n"
     ]
    }
   ],
   "source": [
    "print(\"Pattern Rows = \", rows);\n",
    "print(\"Diamond \",special_char,\" Pattern\");\n",
    "\n",
    "upper_triangle(rows, special_char)\n",
    "lower_triangle(rows, special_char)\n",
    "\n"
   ]
  },
  {
   "cell_type": "code",
   "execution_count": null,
   "id": "dee0ded4",
   "metadata": {},
   "outputs": [],
   "source": []
  }
 ],
 "metadata": {
  "kernelspec": {
   "display_name": "Python 3",
   "language": "python",
   "name": "python3"
  },
  "language_info": {
   "codemirror_mode": {
    "name": "ipython",
    "version": 3
   },
   "file_extension": ".py",
   "mimetype": "text/x-python",
   "name": "python",
   "nbconvert_exporter": "python",
   "pygments_lexer": "ipython3",
   "version": "3.7.4"
  }
 },
 "nbformat": 4,
 "nbformat_minor": 5
}
