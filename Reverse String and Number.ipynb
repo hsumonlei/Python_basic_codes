{
 "cells": [
  {
   "cell_type": "code",
   "execution_count": 3,
   "id": "a0d5632e",
   "metadata": {},
   "outputs": [
    {
     "name": "stdout",
     "output_type": "stream",
     "text": [
      "Enter a string to reverse :1234567890\n",
      "Reverse all characters in a Sequence : 0987654321\n"
     ]
    }
   ],
   "source": [
    "#Reverse A string\n",
    "\n",
    "def reverse(st):\n",
    "    x = \"\"\n",
    "    for i in st:\n",
    "        x = i + x\n",
    "    return x\n",
    "\n",
    "st = input(\"Enter a string to reverse :\")\n",
    "\n",
    "rev_st=reverse(st)\n",
    "print(\"Reverse all characters in a Sequence :\", rev_st)"
   ]
  },
  {
   "cell_type": "code",
   "execution_count": 12,
   "id": "f3f79d47",
   "metadata": {},
   "outputs": [
    {
     "name": "stdout",
     "output_type": "stream",
     "text": [
      "Enter a number to reverse :1234\n",
      "1234\n",
      "Reminder : 4\n",
      "rev_num : 4\n",
      "Final rev_num : 123\n",
      "\n",
      "\n",
      "Reminder : 3\n",
      "rev_num : 43\n",
      "Final rev_num : 12\n",
      "\n",
      "\n",
      "Reminder : 2\n",
      "rev_num : 432\n",
      "Final rev_num : 1\n",
      "\n",
      "\n",
      "Reminder : 1\n",
      "rev_num : 4321\n",
      "Final rev_num : 0\n",
      "\n",
      "\n"
     ]
    }
   ],
   "source": [
    "#Reverse a given number\n",
    "\n",
    "def reverse_num(num):\n",
    "    rev_num = 0\n",
    "    print(num)\n",
    "    while num > 0 :\n",
    "        reminder = num % 10\n",
    "        print(\"Reminder :\", reminder)\n",
    "        rev_num = (rev_num * 10 ) + reminder\n",
    "        print(\"rev_num :\", rev_num)\n",
    "        num = num // 10\n",
    "        print(\"Final rev_num :\", num)\n",
    "        print(\"\\n\")\n",
    "    \n",
    "\n",
    "\n",
    "num = int(input(\"Enter a number to reverse :\"))\n",
    "reverse_num(num)\n"
   ]
  },
  {
   "cell_type": "code",
   "execution_count": null,
   "id": "8e5a1d6a",
   "metadata": {},
   "outputs": [],
   "source": []
  }
 ],
 "metadata": {
  "kernelspec": {
   "display_name": "Python 3",
   "language": "python",
   "name": "python3"
  },
  "language_info": {
   "codemirror_mode": {
    "name": "ipython",
    "version": 3
   },
   "file_extension": ".py",
   "mimetype": "text/x-python",
   "name": "python",
   "nbconvert_exporter": "python",
   "pygments_lexer": "ipython3",
   "version": "3.7.4"
  }
 },
 "nbformat": 4,
 "nbformat_minor": 5
}
