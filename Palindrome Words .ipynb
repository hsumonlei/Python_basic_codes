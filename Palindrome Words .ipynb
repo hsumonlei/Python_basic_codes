{
 "cells": [
  {
   "cell_type": "code",
   "execution_count": 1,
   "id": "0be81e83",
   "metadata": {},
   "outputs": [
    {
     "name": "stdout",
     "output_type": "stream",
     "text": [
      "Enter a string to find palindrome words :##Hel;lo *w:o!r;ld * de*ar ! m&*o())m\n",
      "The palindrome word in the string : ['mom']\n"
     ]
    }
   ],
   "source": [
    "import re\n",
    "\n",
    "def palindrome(s):\n",
    "    pali = [];\n",
    "    words ='';\n",
    "\n",
    "    for e in s:\n",
    "        if e.isalnum():\n",
    "            words += ''.join(e);\n",
    "        else:\n",
    "            if e == ' ':\n",
    "                words += ''.join(e);\n",
    "                \n",
    "    #print(words);\n",
    "    words = re.split(r' +',words);\n",
    "    #print(words);\n",
    "    \n",
    "    for word in words:\n",
    "        word = word.lower();\n",
    "        if word == word[::-1] : #The Slice notation in python has the syntax - list[<start>:<stop>:<step>]\n",
    "            pali.append(word);\n",
    "    \n",
    "    print(\"The palindrome word in the string :\",pali);\n",
    "    \n",
    "\n",
    "str = input(\"Enter a string to find palindrome words :\"); ##Hel;lo *w:o!r;ld * de*ar ! m&*o())m\n",
    "palindrome(str);\n"
   ]
  },
  {
   "cell_type": "code",
   "execution_count": 2,
   "id": "dfe3dc37",
   "metadata": {},
   "outputs": [
    {
     "name": "stdout",
     "output_type": "stream",
     "text": [
      "4321\n",
      "432\n",
      "432\n",
      "4321\n",
      "4321\n"
     ]
    }
   ],
   "source": [
    "#list[<start>:<stop>:<step>]The Slice notation in python has the syntax -\n",
    "a = '1234';\n",
    "print(a[3::-1]);     #4321\n",
    "print(a[3:0:-1]);    #432\n",
    "print(a[4:0:-1]);    #432\n",
    "print(a[4::-1]);     #4321\n",
    "print(a[::-1]);      #4321"
   ]
  },
  {
   "cell_type": "code",
   "execution_count": null,
   "id": "9ef08fd4",
   "metadata": {},
   "outputs": [],
   "source": []
  }
 ],
 "metadata": {
  "kernelspec": {
   "display_name": "Python 3",
   "language": "python",
   "name": "python3"
  },
  "language_info": {
   "codemirror_mode": {
    "name": "ipython",
    "version": 3
   },
   "file_extension": ".py",
   "mimetype": "text/x-python",
   "name": "python",
   "nbconvert_exporter": "python",
   "pygments_lexer": "ipython3",
   "version": "3.7.4"
  }
 },
 "nbformat": 4,
 "nbformat_minor": 5
}
