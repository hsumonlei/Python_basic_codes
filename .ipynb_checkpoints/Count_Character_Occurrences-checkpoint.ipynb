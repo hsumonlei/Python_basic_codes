{
 "cells": [
  {
   "cell_type": "code",
   "execution_count": 1,
   "id": "226d7ecb",
   "metadata": {},
   "outputs": [
    {
     "name": "stdout",
     "output_type": "stream",
     "text": [
      "Enter your string : I am a programmer\n",
      "{'I': 1, ' ': 3, 'a': 3, 'm': 3, 'p': 1, 'r': 3, 'o': 1, 'g': 1, 'e': 1}\n",
      "None\n"
     ]
    }
   ],
   "source": [
    "def count_characters(s):\n",
    "    count = {}\n",
    "    for i in s:\n",
    "        if i in count:\n",
    "            count[i] += 1;\n",
    "        else:\n",
    "            count[i]=1\n",
    "    print(count)\n",
    "\n",
    "words = input(\"Enter your string : \");\n",
    "print(count_characters(words))"
   ]
  },
  {
   "cell_type": "code",
   "execution_count": 2,
   "id": "2a7359a9",
   "metadata": {},
   "outputs": [
    {
     "name": "stdout",
     "output_type": "stream",
     "text": [
      "Enter your string : I am a programmer\n",
      "{'I': 1, ' ': 3, 'a': 3, 'm': 3, 'p': 1, 'r': 3, 'o': 1, 'g': 1, 'e': 1}\n",
      "None\n"
     ]
    }
   ],
   "source": [
    "words = input(\"Enter your string : \");\n",
    "print(count_characters(words))"
   ]
  },
  {
   "cell_type": "markdown",
   "id": "ab6c360c",
   "metadata": {},
   "source": [
    "Encoding of string, with pattern [Character][Number of occurrence]"
   ]
  },
  {
   "cell_type": "code",
   "execution_count": 107,
   "id": "8805123a",
   "metadata": {},
   "outputs": [
    {
     "name": "stdout",
     "output_type": "stream",
     "text": [
      "A3B2C2A2\n",
      "A3B2C2B2C2D2\n"
     ]
    }
   ],
   "source": [
    "def encode_characters(ss):\n",
    "    count = 0\n",
    "    arr= []\n",
    "    for i in range(0,len(ss)):\n",
    "        if (i==0) :\n",
    "            arr.append(ss[0]);\n",
    "            count = 1;\n",
    "            #print(arr);\n",
    "            #print(\"Count Number\",count);\n",
    "        elif  ss[i] == ss[i-1] :\n",
    "            count += 1;     \n",
    "        else:\n",
    "            if (count > 0):\n",
    "                #print(arr);\n",
    "                #print(\"Count Number\",count);\n",
    "                arr.append(count);\n",
    "                arr.append(ss[i]);\n",
    "                count = 1;\n",
    "        #print(arr);\n",
    "    #print(count);\n",
    "    #print(arr);\n",
    "    #print(\"Count Number\",count);\n",
    "    arr.append(count);\n",
    "    print(\"\".join(str(x) for x in arr));\n",
    "    \n",
    "        \n",
    "    \n",
    "encode_characters('AAABBCCAA');\n",
    "\n",
    "encode_characters('AAABBCCBBCCDD');\n"
   ]
  },
  {
   "cell_type": "markdown",
   "id": "5a040cfa",
   "metadata": {},
   "source": [
    "# Encoding of the encoding from Q1, with pattern [Pattern of String][Number of occurrence]"
   ]
  },
  {
   "cell_type": "code",
   "execution_count": 137,
   "id": "147c854c",
   "metadata": {},
   "outputs": [],
   "source": [
    "def encode_characters(ss):\n",
    "    print(\"Input String :\",ss);\n",
    "    count = 0\n",
    "    arr= []\n",
    "    for i in range(0,len(ss)):\n",
    "        if (i==0) :\n",
    "            arr.append(ss[0]);\n",
    "            count = 1;\n",
    "        elif  ss[i] == ss[i-1] :\n",
    "            count += 1;     \n",
    "        else:\n",
    "            if (count > 0):\n",
    "                arr.append(count);\n",
    "                arr.append(ss[i]);\n",
    "                count = 1;\n",
    "    arr.append(count);\n",
    "    #print(\"\".join(str(x) for x in arr));\n",
    "    result = \"\".join(str(x) for x in arr);\n",
    "    print(\"First Encoding result : \",result);\n",
    "    second_encode(result);"
   ]
  },
  {
   "cell_type": "code",
   "execution_count": 299,
   "id": "c9e8a737",
   "metadata": {},
   "outputs": [
    {
     "name": "stdout",
     "output_type": "stream",
     "text": [
      "Input String : AAABBAAACCAA\n",
      "First Encoding result :  A3B2A3C2A2\n",
      "['A3', 'B2', 'A3', 'C2', 'A2']\n",
      "Initial count dictionary: {}\n",
      "Insert value to dictionary: {'A3': 1}\n",
      "Initial count dictionary: {'A3': 1}\n",
      "Insert value to dictionary: {'A3': 1, 'B2': 1}\n",
      "Initial count dictionary: {'A3': 1, 'B2': 1}\n",
      "The temp value : ['A3']\n",
      "1\n",
      "Initial count dictionary: {'A3': 2, 'B2': 1}\n",
      "Insert value to dictionary: {'A3': 2, 'B2': 1, 'C2': 1}\n",
      "Initial count dictionary: {'A3': 2, 'B2': 1, 'C2': 1}\n",
      "Insert value to dictionary: {'A3': 2, 'B2': 1, 'C2': 1, 'A2': 1}\n",
      "The output is : {'A3': 2, 'B2': 1, 'C2': 1, 'A2': 1}\n",
      "\n",
      "Input String : AAABBCCBBCCDD\n",
      "First Encoding result :  A3B2C2B2C2D2\n",
      "['A3', 'B2', 'C2', 'B2', 'C2', 'D2']\n",
      "Initial count dictionary: {}\n",
      "Insert value to dictionary: {'A3': 1}\n",
      "Initial count dictionary: {'A3': 1}\n",
      "Insert value to dictionary: {'A3': 1, 'B2': 1}\n",
      "Initial count dictionary: {'A3': 1, 'B2': 1}\n",
      "Insert value to dictionary: {'A3': 1, 'B2': 1, 'C2': 1}\n",
      "Initial count dictionary: {'A3': 1, 'B2': 1, 'C2': 1}\n",
      "The temp value : ['B2']\n",
      "1\n",
      "Initial count dictionary: {'A3': 1, 'B2': 2, 'C2': 1}\n",
      "The temp value : ['B2', 'C2']\n",
      "2\n",
      "B2C2\n",
      "count\n",
      "{'A3': 1, 'C2': 2}\n"
     ]
    },
    {
     "ename": "KeyError",
     "evalue": "'B2'",
     "output_type": "error",
     "traceback": [
      "\u001b[1;31m---------------------------------------------------------------------------\u001b[0m",
      "\u001b[1;31mKeyError\u001b[0m                                  Traceback (most recent call last)",
      "\u001b[1;32m<ipython-input-299-0850248eb164>\u001b[0m in \u001b[0;36m<module>\u001b[1;34m\u001b[0m\n\u001b[0;32m     45\u001b[0m \u001b[0mencode_characters\u001b[0m\u001b[1;33m(\u001b[0m\u001b[1;34m'AAABBAAACCAA'\u001b[0m\u001b[1;33m)\u001b[0m\u001b[1;33m;\u001b[0m\u001b[1;33m\u001b[0m\u001b[1;33m\u001b[0m\u001b[0m\n\u001b[0;32m     46\u001b[0m \u001b[0mprint\u001b[0m\u001b[1;33m(\u001b[0m\u001b[1;33m)\u001b[0m\u001b[1;33m;\u001b[0m\u001b[1;33m\u001b[0m\u001b[1;33m\u001b[0m\u001b[0m\n\u001b[1;32m---> 47\u001b[1;33m \u001b[0mencode_characters\u001b[0m\u001b[1;33m(\u001b[0m\u001b[1;34m'AAABBCCBBCCDD'\u001b[0m\u001b[1;33m)\u001b[0m\u001b[1;33m;\u001b[0m\u001b[1;33m\u001b[0m\u001b[1;33m\u001b[0m\u001b[0m\n\u001b[0m",
      "\u001b[1;32m<ipython-input-137-1c6558a69063>\u001b[0m in \u001b[0;36mencode_characters\u001b[1;34m(ss)\u001b[0m\n\u001b[0;32m     18\u001b[0m     \u001b[0mresult\u001b[0m \u001b[1;33m=\u001b[0m \u001b[1;34m\"\"\u001b[0m\u001b[1;33m.\u001b[0m\u001b[0mjoin\u001b[0m\u001b[1;33m(\u001b[0m\u001b[0mstr\u001b[0m\u001b[1;33m(\u001b[0m\u001b[0mx\u001b[0m\u001b[1;33m)\u001b[0m \u001b[1;32mfor\u001b[0m \u001b[0mx\u001b[0m \u001b[1;32min\u001b[0m \u001b[0marr\u001b[0m\u001b[1;33m)\u001b[0m\u001b[1;33m;\u001b[0m\u001b[1;33m\u001b[0m\u001b[1;33m\u001b[0m\u001b[0m\n\u001b[0;32m     19\u001b[0m     \u001b[0mprint\u001b[0m\u001b[1;33m(\u001b[0m\u001b[1;34m\"First Encoding result : \"\u001b[0m\u001b[1;33m,\u001b[0m\u001b[0mresult\u001b[0m\u001b[1;33m)\u001b[0m\u001b[1;33m;\u001b[0m\u001b[1;33m\u001b[0m\u001b[1;33m\u001b[0m\u001b[0m\n\u001b[1;32m---> 20\u001b[1;33m     \u001b[0msecond_encode\u001b[0m\u001b[1;33m(\u001b[0m\u001b[0mresult\u001b[0m\u001b[1;33m)\u001b[0m\u001b[1;33m;\u001b[0m\u001b[1;33m\u001b[0m\u001b[1;33m\u001b[0m\u001b[0m\n\u001b[0m",
      "\u001b[1;32m<ipython-input-299-0850248eb164>\u001b[0m in \u001b[0;36msecond_encode\u001b[1;34m(s)\u001b[0m\n\u001b[0;32m     32\u001b[0m                 \u001b[0mprint\u001b[0m\u001b[1;33m(\u001b[0m\u001b[0mcount\u001b[0m\u001b[1;33m)\u001b[0m\u001b[1;33m;\u001b[0m\u001b[1;33m\u001b[0m\u001b[1;33m\u001b[0m\u001b[0m\n\u001b[0;32m     33\u001b[0m \u001b[1;33m\u001b[0m\u001b[0m\n\u001b[1;32m---> 34\u001b[1;33m                 \u001b[1;32mdel\u001b[0m \u001b[0mcount\u001b[0m\u001b[1;33m[\u001b[0m\u001b[0mtemp\u001b[0m\u001b[1;33m[\u001b[0m\u001b[1;36m0\u001b[0m\u001b[1;33m]\u001b[0m\u001b[1;33m]\u001b[0m\u001b[1;33m;\u001b[0m\u001b[1;33m\u001b[0m\u001b[1;33m\u001b[0m\u001b[0m\n\u001b[0m\u001b[0;32m     35\u001b[0m                 \u001b[0mprint\u001b[0m\u001b[1;33m(\u001b[0m\u001b[0mcount\u001b[0m\u001b[1;33m)\u001b[0m\u001b[1;33m;\u001b[0m\u001b[1;33m\u001b[0m\u001b[1;33m\u001b[0m\u001b[0m\n\u001b[0;32m     36\u001b[0m                 \u001b[0mprint\u001b[0m\u001b[1;33m(\u001b[0m\u001b[0mcount\u001b[0m\u001b[1;33m[\u001b[0m\u001b[0mtemp\u001b[0m\u001b[1;33m[\u001b[0m\u001b[1;36m0\u001b[0m\u001b[1;33m]\u001b[0m\u001b[1;33m]\u001b[0m\u001b[1;33m)\u001b[0m\u001b[1;33m;\u001b[0m\u001b[1;33m\u001b[0m\u001b[1;33m\u001b[0m\u001b[0m\n",
      "\u001b[1;31mKeyError\u001b[0m: 'B2'"
     ]
    }
   ],
   "source": [
    "def second_encode(s):\n",
    "    #rint(s);\n",
    "    arr = [];\n",
    "    count = {};\n",
    "    temp_count = 0;\n",
    "    temp = [];\n",
    "    \n",
    "#     for i in s:\n",
    "#         print(i);\n",
    "\n",
    "#******** String to two char array***********\n",
    "    for i in range(0,len(s),2):\n",
    "        pattern = s[i]+s[i+1];\n",
    "        arr.append(pattern);\n",
    "    print(arr);\n",
    "    \n",
    "#**********************\n",
    "    for i in arr:\n",
    "        print(\"Initial count dictionary:\",count);\n",
    "        if i in count:\n",
    "            #print(count);\n",
    "            temp.append(i);\n",
    "            temp_count += 1;\n",
    "            count[i] += 1;\n",
    "            print(\"The temp value :\",temp);\n",
    "            print(temp_count);\n",
    "            if(temp_count >1 ):\n",
    "                cat = temp[0] + temp [1];\n",
    "                print(cat);\n",
    "                print(\"count\");\n",
    "                del count[temp[0]]; # remove entry with key 'i'\n",
    "                del count[temp[1]];\n",
    "                print(count);\n",
    "\n",
    "                 \n",
    "        else:\n",
    "            count[i]=1;\n",
    "            print(\"Insert value to dictionary:\",count);\n",
    "    print(\"The output is :\",count)\n",
    "          \n",
    "encode_characters('AAABBAAACCAA');  \n",
    "print();\n",
    "encode_characters('AAABBCCBBCCDD');"
   ]
  },
  {
   "cell_type": "code",
   "execution_count": null,
   "id": "0f370b14",
   "metadata": {},
   "outputs": [],
   "source": []
  }
 ],
 "metadata": {
  "kernelspec": {
   "display_name": "Python 3",
   "language": "python",
   "name": "python3"
  },
  "language_info": {
   "codemirror_mode": {
    "name": "ipython",
    "version": 3
   },
   "file_extension": ".py",
   "mimetype": "text/x-python",
   "name": "python",
   "nbconvert_exporter": "python",
   "pygments_lexer": "ipython3",
   "version": "3.7.4"
  }
 },
 "nbformat": 4,
 "nbformat_minor": 5
}
