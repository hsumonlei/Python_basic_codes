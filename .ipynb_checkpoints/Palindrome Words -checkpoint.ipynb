{
 "cells": [
  {
   "cell_type": "code",
   "execution_count": 1,
   "id": "0be81e83",
   "metadata": {},
   "outputs": [
    {
     "name": "stdout",
     "output_type": "stream",
     "text": [
      "Enter a string to find palindrome words :##Hel;lo *w:o!r;ld * de*ar ! m&*o())m\n",
      "The palindrome word in the string : ['mom']\n"
     ]
    }
   ],
   "source": [
    "import re\n",
    "\n",
    "def palindrome(s):\n",
    "    pali = [];\n",
    "    words ='';\n",
    "\n",
    "    for e in s:\n",
    "        if e.isalnum():\n",
    "            words += ''.join(e);\n",
    "        else:\n",
    "            if e == ' ':\n",
    "                words += ''.join(e);\n",
    "                \n",
    "    #print(words);\n",
    "    words = re.split(r' +',words);\n",
    "    #print(words);\n",
    "    \n",
    "    for word in words:\n",
    "        word = word.lower();\n",
    "        if word == word[::-1] : #The Slice notation in python has the syntax - list[<start>:<stop>:<step>]\n",
    "            pali.append(word);\n",
    "    \n",
    "    print(\"The palindrome word in the string :\",pali);\n",
    "    \n",
    "\n",
    "str = input(\"Enter a string to find palindrome words :\"); ##Hel;lo *w:o!r;ld * de*ar ! m&*o())m\n",
    "palindrome(str);\n"
   ]
  },
  {
   "cell_type": "code",
   "execution_count": 2,
   "id": "dfe3dc37",
   "metadata": {},
   "outputs": [
    {
     "name": "stdout",
     "output_type": "stream",
     "text": [
      "4321\n",
      "432\n",
      "432\n",
      "4321\n",
      "4321\n"
     ]
    }
   ],
   "source": [
    "#list[<start>:<stop>:<step>]The Slice notation in python has the syntax -\n",
    "a = '1234';\n",
    "print(a[3::-1]);     #4321\n",
    "print(a[3:0:-1]);    #432\n",
    "print(a[4:0:-1]);    #432\n",
    "print(a[4::-1]);     #4321\n",
    "print(a[::-1]);      #4321"
   ]
  },
  {
   "cell_type": "code",
   "execution_count": 6,
   "id": "9ef08fd4",
   "metadata": {},
   "outputs": [
    {
     "name": "stdout",
     "output_type": "stream",
     "text": [
      "Enter a string:level\n",
      "2\n",
      "True\n",
      "l\n",
      "el\n",
      "vel\n",
      "evel\n",
      "level\n",
      "It is a palindrome string\n"
     ]
    }
   ],
   "source": [
    "s = input(\"Enter a string:\")\n",
    "\n",
    "def palindrome(s):\n",
    "    x = \"\"\n",
    "    for i in s:\n",
    "        x = i + x\n",
    "        print(x)\n",
    "    return x\n",
    "\n",
    "#function to check the palindrome\n",
    "def check_palindrome(s):\n",
    "    print(int(len(s)/2))\n",
    "    for i in range(1,int(len(s)/2)):\n",
    "        if s[i] == s[len(s)-i-1]:\n",
    "            return True\n",
    "    return False\n",
    "\n",
    "if (check_palindrome(s)):\n",
    "    print(\"It is a palindrome string\")\n",
    "else:\n",
    "    print(\"It is not a palindrome\")\n",
    "\n",
    "if s == palindrome(s):\n",
    "    print(\"It is a palindrome string\")\n",
    "else:\n",
    "    print(\"It is not a palindrome\")"
   ]
  },
  {
   "cell_type": "code",
   "execution_count": null,
   "id": "1f7c456b",
   "metadata": {},
   "outputs": [],
   "source": [
    "#"
   ]
  }
 ],
 "metadata": {
  "kernelspec": {
   "display_name": "Python 3",
   "language": "python",
   "name": "python3"
  },
  "language_info": {
   "codemirror_mode": {
    "name": "ipython",
    "version": 3
   },
   "file_extension": ".py",
   "mimetype": "text/x-python",
   "name": "python",
   "nbconvert_exporter": "python",
   "pygments_lexer": "ipython3",
   "version": "3.7.4"
  }
 },
 "nbformat": 4,
 "nbformat_minor": 5
}
