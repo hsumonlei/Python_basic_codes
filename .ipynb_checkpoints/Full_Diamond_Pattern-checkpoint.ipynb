{
 "cells": [
  {
   "cell_type": "code",
   "execution_count": 1,
   "id": "a99598cd",
   "metadata": {},
   "outputs": [
    {
     "name": "stdout",
     "output_type": "stream",
     "text": [
      "Enter Number of Rows for your Diamond Pattern = 6\n"
     ]
    }
   ],
   "source": [
    "rows = int (input(\"Enter Number of Rows for your Diamond Pattern = \"))"
   ]
  },
  {
   "cell_type": "code",
   "execution_count": 2,
   "id": "3fce11e8",
   "metadata": {},
   "outputs": [
    {
     "name": "stdout",
     "output_type": "stream",
     "text": [
      "Enter special character do you want to make diamond pattern = *\n"
     ]
    }
   ],
   "source": [
    "special_char = input(\"Enter special character do you want to make diamond pattern = \")"
   ]
  },
  {
   "cell_type": "code",
   "execution_count": 13,
   "id": "04c7501a",
   "metadata": {},
   "outputs": [
    {
     "name": "stdout",
     "output_type": "stream",
     "text": [
      "     *\n",
      "    ***\n",
      "   *****\n",
      "  *******\n",
      " *********\n",
      "***********\n"
     ]
    }
   ],
   "source": [
    "for i in range(1, rows+1):\n",
    "    for j in range (1, rows - i +1):\n",
    "        print(end = ' ')\n",
    "    for k in range(0, 2* i -1):\n",
    "        print(special_char, end = '')\n",
    "    print()\n"
   ]
  },
  {
   "cell_type": "code",
   "execution_count": 14,
   "id": "ebcb700c",
   "metadata": {},
   "outputs": [],
   "source": [
    "def upper_triangle(r,s):\n",
    "    for i in range(1, r+1):\n",
    "        for j in range (1, r - i +1):\n",
    "            print(end = ' ')\n",
    "        for k in range(0, 2* i -1):\n",
    "            print(s, end = '')\n",
    "        print()\n",
    "    "
   ]
  },
  {
   "cell_type": "code",
   "execution_count": 16,
   "id": "100fe504",
   "metadata": {},
   "outputs": [
    {
     "name": "stdout",
     "output_type": "stream",
     "text": [
      " *********\n",
      "  *******\n",
      "   *****\n",
      "    ***\n",
      "     *\n"
     ]
    }
   ],
   "source": [
    "for x in range(1,rows):\n",
    "    for y in range(1, x+1):\n",
    "        print(end = ' ')\n",
    "    for z in range(1, (2 * (rows - x))):\n",
    "        print(special_char, end = '')\n",
    "    print()"
   ]
  },
  {
   "cell_type": "code",
   "execution_count": 17,
   "id": "be2599be",
   "metadata": {},
   "outputs": [],
   "source": [
    "def lower_triangle(r,s):\n",
    "    for x in range(1,r):\n",
    "        for y in range(1, x+1):\n",
    "            print(end = ' ')\n",
    "        for z in range(1, (2 * (r - x))):\n",
    "            print(s, end = '')\n",
    "        print()\n",
    "    "
   ]
  },
  {
   "cell_type": "code",
   "execution_count": 18,
   "id": "98732701",
   "metadata": {},
   "outputs": [
    {
     "name": "stdout",
     "output_type": "stream",
     "text": [
      "Pattern Rows =  6\n",
      "Diamond  *  Pattern\n",
      "     *\n",
      "    ***\n",
      "   *****\n",
      "  *******\n",
      " *********\n",
      "***********\n",
      " *********\n",
      "  *******\n",
      "   *****\n",
      "    ***\n",
      "     *\n"
     ]
    }
   ],
   "source": [
    "print(\"Pattern Rows = \", rows);\n",
    "print(\"Diamond \",special_char,\" Pattern\");\n",
    "\n",
    "upper_triangle(rows, special_char)\n",
    "lower_triangle(rows, special_char)\n",
    "\n"
   ]
  },
  {
   "cell_type": "markdown",
   "id": "5800aa5c",
   "metadata": {},
   "source": [
    "#Upper Triangle"
   ]
  },
  {
   "cell_type": "code",
   "execution_count": 30,
   "id": "3864eab0",
   "metadata": {},
   "outputs": [
    {
     "name": "stdout",
     "output_type": "stream",
     "text": [
      "     *\n",
      "    ***\n",
      "   *****\n",
      "  *******\n",
      " *********\n",
      "***********\n"
     ]
    }
   ],
   "source": [
    "rows = 6\n",
    "for i in range(1, rows+1):\n",
    "    for j in range (0, rows-i):\n",
    "            print(end = ' ')\n",
    "    for k in range(0, i * 2 -1):\n",
    "            print(\"*\", end = '');\n",
    "    print();"
   ]
  },
  {
   "cell_type": "code",
   "execution_count": 31,
   "id": "f860802d",
   "metadata": {},
   "outputs": [
    {
     "name": "stdout",
     "output_type": "stream",
     "text": [
      "    *\n",
      "   ***\n",
      "  *****\n",
      " *******\n",
      "*********\n"
     ]
    }
   ],
   "source": [
    "rows = 5\n",
    "for i in range(1, rows+1):\n",
    "    for j in range (0, rows-i):\n",
    "            print(end = ' ')\n",
    "    for k in range(0, i * 2 -1):\n",
    "            print(\"*\", end = '');\n",
    "    print();"
   ]
  },
  {
   "cell_type": "code",
   "execution_count": 32,
   "id": "cde5d46f",
   "metadata": {},
   "outputs": [
    {
     "name": "stdout",
     "output_type": "stream",
     "text": [
      "   *\n",
      "  ***\n",
      " *****\n",
      "*******\n"
     ]
    }
   ],
   "source": [
    "rows = 4\n",
    "for i in range(1, rows+1):\n",
    "    for j in range (0, rows-i):\n",
    "            print(end = ' ')\n",
    "    for k in range(0, i * 2 -1):\n",
    "            print(\"*\", end = '');\n",
    "    print();"
   ]
  },
  {
   "cell_type": "code",
   "execution_count": 33,
   "id": "ccce3b97",
   "metadata": {},
   "outputs": [
    {
     "name": "stdout",
     "output_type": "stream",
     "text": [
      "  *\n",
      " ***\n",
      "*****\n"
     ]
    }
   ],
   "source": [
    "rows = 3\n",
    "for i in range(1, rows+1):\n",
    "    for j in range (0, rows-i):\n",
    "            print(end = ' ')\n",
    "    for k in range(0, i * 2 -1):\n",
    "            print(\"*\", end = '');\n",
    "    print();"
   ]
  },
  {
   "cell_type": "code",
   "execution_count": 34,
   "id": "c64a2adf",
   "metadata": {},
   "outputs": [
    {
     "name": "stdout",
     "output_type": "stream",
     "text": [
      " *\n",
      "***\n"
     ]
    }
   ],
   "source": [
    "rows = 2\n",
    "for i in range(1, rows+1):\n",
    "    for j in range (0, rows-i):\n",
    "            print(end = ' ')\n",
    "    for k in range(0, i * 2 -1):\n",
    "            print(\"*\", end = '');\n",
    "    print();"
   ]
  },
  {
   "cell_type": "code",
   "execution_count": 35,
   "id": "500ce131",
   "metadata": {},
   "outputs": [
    {
     "name": "stdout",
     "output_type": "stream",
     "text": [
      "*\n"
     ]
    }
   ],
   "source": [
    "rows = 1\n",
    "for i in range(1, rows+1):\n",
    "    for j in range (0, rows-i):\n",
    "            print(end = ' ')\n",
    "    for k in range(0, i * 2 -1):\n",
    "            print(\"*\", end = '');\n",
    "    print();"
   ]
  },
  {
   "cell_type": "code",
   "execution_count": 37,
   "id": "cc9c2d86",
   "metadata": {},
   "outputs": [
    {
     "name": "stdout",
     "output_type": "stream",
     "text": [
      "      *\n",
      "     ***\n",
      "    *****\n",
      "   *******\n",
      "  *********\n",
      " ***********\n",
      "*************\n"
     ]
    }
   ],
   "source": [
    "rows = 7\n",
    "for i in range(1, rows+1):\n",
    "    for j in range (0, rows-i):\n",
    "            print(end = ' ');\n",
    "    for k in range(0, i * 2 -1):\n",
    "            print(\"*\", end = '');\n",
    "    print();"
   ]
  },
  {
   "cell_type": "code",
   "execution_count": 53,
   "id": "38ba75ed",
   "metadata": {},
   "outputs": [
    {
     "name": "stdout",
     "output_type": "stream",
     "text": [
      "      *\n",
      "     ***\n",
      "    *****\n",
      "   *******\n",
      "  *********\n",
      " ***********\n",
      "*************\n"
     ]
    }
   ],
   "source": [
    "rows = 7\n",
    "for i in range(1, rows+1):\n",
    "    for j in range(0, rows-i):\n",
    "            print(end = ' '); \n",
    "#             Passing the whitespace to the end parameter (end=‘ ‘) indicates that the end character has to be identified by whitespace and not a newline.\n",
    "    for k in range(0, i * 2 -1):\n",
    "            print(\"*\",end = '');\n",
    "    print('');"
   ]
  },
  {
   "cell_type": "code",
   "execution_count": 42,
   "id": "5db1e984",
   "metadata": {},
   "outputs": [
    {
     "name": "stdout",
     "output_type": "stream",
     "text": [
      "*"
     ]
    }
   ],
   "source": [
    "print(\"*\", end = '');"
   ]
  },
  {
   "cell_type": "markdown",
   "id": "d65c4199",
   "metadata": {},
   "source": [
    "#Lower Triangle"
   ]
  },
  {
   "cell_type": "code",
   "execution_count": 65,
   "id": "a2dcd99b",
   "metadata": {},
   "outputs": [
    {
     "name": "stdout",
     "output_type": "stream",
     "text": [
      "***********\n",
      " *********\n",
      "  *******\n",
      "   *****\n",
      "    ***\n",
      "     *\n"
     ]
    }
   ],
   "source": [
    "rows = 6\n",
    "\n",
    "for i in range(0,rows):\n",
    "    for j in range(0,i):\n",
    "        print(end = ' '); \n",
    "    for k in range(2, (rows*2)-(i*2-1)):\n",
    "         print(\"*\",end = '');\n",
    "    print('');\n",
    "    "
   ]
  },
  {
   "cell_type": "code",
   "execution_count": 66,
   "id": "13d969ef",
   "metadata": {},
   "outputs": [
    {
     "name": "stdout",
     "output_type": "stream",
     "text": [
      "*********\n",
      " *******\n",
      "  *****\n",
      "   ***\n",
      "    *\n"
     ]
    }
   ],
   "source": [
    "rows = 5\n",
    "\n",
    "for i in range(0,rows):\n",
    "    for j in range(0,i):\n",
    "        print(end = ' '); \n",
    "    for k in range(2, (rows*2)-(i*2-1)):\n",
    "         print(\"*\",end = '');\n",
    "    print('');"
   ]
  },
  {
   "cell_type": "code",
   "execution_count": 68,
   "id": "30f365c7",
   "metadata": {},
   "outputs": [
    {
     "name": "stdout",
     "output_type": "stream",
     "text": [
      "*******\n",
      " *****\n",
      "  ***\n",
      "   *\n"
     ]
    }
   ],
   "source": [
    "rows = 4\n",
    "\n",
    "for i in range(0,rows):\n",
    "    for j in range(0,i):\n",
    "        print(end = ' '); \n",
    "    for k in range(2, (rows*2)-(i*2-1)):\n",
    "         print(\"*\",end = '');\n",
    "    print('');"
   ]
  },
  {
   "cell_type": "code",
   "execution_count": 69,
   "id": "4e5d7102",
   "metadata": {},
   "outputs": [
    {
     "name": "stdout",
     "output_type": "stream",
     "text": [
      "*****\n",
      " ***\n",
      "  *\n"
     ]
    }
   ],
   "source": [
    "rows = 3\n",
    "\n",
    "for i in range(0,rows):\n",
    "    for j in range(0,i):\n",
    "        print(end = ' '); \n",
    "    for k in range(2, (rows*2)-(i*2-1)):\n",
    "         print(\"*\",end = '');\n",
    "    print('');"
   ]
  },
  {
   "cell_type": "code",
   "execution_count": 70,
   "id": "e6065a88",
   "metadata": {},
   "outputs": [
    {
     "name": "stdout",
     "output_type": "stream",
     "text": [
      "***\n",
      " *\n"
     ]
    }
   ],
   "source": [
    "rows = 2\n",
    "\n",
    "for i in range(0,rows):\n",
    "    for j in range(0,i):\n",
    "        print(end = ' '); \n",
    "    for k in range(2, (rows*2)-(i*2-1)):\n",
    "         print(\"*\",end = '');\n",
    "    print('');"
   ]
  },
  {
   "cell_type": "code",
   "execution_count": 71,
   "id": "39b34cea",
   "metadata": {},
   "outputs": [
    {
     "name": "stdout",
     "output_type": "stream",
     "text": [
      "*\n"
     ]
    }
   ],
   "source": [
    "rows = 1\n",
    "\n",
    "for i in range(0,rows):\n",
    "    for j in range(0,i):\n",
    "        print(end = ' '); \n",
    "    for k in range(2, (rows*2)-(i*2-1)):\n",
    "         print(\"*\",end = '');\n",
    "    print('');"
   ]
  },
  {
   "cell_type": "markdown",
   "id": "2fff4b36",
   "metadata": {},
   "source": [
    "#Combine two triangles"
   ]
  },
  {
   "cell_type": "code",
   "execution_count": 74,
   "id": "af77d6ac",
   "metadata": {},
   "outputs": [
    {
     "name": "stdout",
     "output_type": "stream",
     "text": [
      "Pattern Rows =  6\n",
      "Diamond  *  Pattern\n",
      "     *\n",
      "    ***\n",
      "   *****\n",
      "  *******\n",
      " *********\n",
      "***********\n",
      "***********\n",
      " *********\n",
      "  *******\n",
      "   *****\n",
      "    ***\n",
      "     *\n"
     ]
    }
   ],
   "source": [
    "rows = 6\n",
    "print(\"Pattern Rows = \", rows);\n",
    "print(\"Diamond \",special_char,\" Pattern\");\n",
    "print('\\n');\n",
    "for i in range(1, rows+1):\n",
    "    for j in range (0, rows-i):\n",
    "            print(end = ' ')\n",
    "    for k in range(0, i * 2 -1):\n",
    "            print(\"*\", end = '');\n",
    "    print();\n",
    "\n",
    "for i in range(0,rows):\n",
    "    for j in range(0,i):\n",
    "        print(end = ' '); \n",
    "    for k in range(2, (rows*2)-(i*2-1)):\n",
    "         print(\"*\",end = '');\n",
    "    print('');"
   ]
  },
  {
   "cell_type": "code",
   "execution_count": null,
   "id": "14e4bbe8",
   "metadata": {},
   "outputs": [],
   "source": []
  }
 ],
 "metadata": {
  "kernelspec": {
   "display_name": "Python 3",
   "language": "python",
   "name": "python3"
  },
  "language_info": {
   "codemirror_mode": {
    "name": "ipython",
    "version": 3
   },
   "file_extension": ".py",
   "mimetype": "text/x-python",
   "name": "python",
   "nbconvert_exporter": "python",
   "pygments_lexer": "ipython3",
   "version": "3.7.4"
  }
 },
 "nbformat": 4,
 "nbformat_minor": 5
}
