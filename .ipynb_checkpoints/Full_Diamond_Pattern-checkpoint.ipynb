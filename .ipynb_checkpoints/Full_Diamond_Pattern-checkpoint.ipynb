{
 "cells": [
  {
   "cell_type": "code",
   "execution_count": 1,
   "id": "eaa4eb23",
   "metadata": {},
   "outputs": [
    {
     "name": "stdout",
     "output_type": "stream",
     "text": [
      "Enter Number of Rows for your Diamond Pattern = 6\n"
     ]
    }
   ],
   "source": [
    "rows = int (input(\"Enter Number of Rows for your Diamond Pattern = \"))"
   ]
  },
  {
   "cell_type": "code",
   "execution_count": 2,
   "id": "ba99d2da",
   "metadata": {},
   "outputs": [
    {
     "name": "stdout",
     "output_type": "stream",
     "text": [
      "Enter special character do you want to make diamond pattern = *\n"
     ]
    }
   ],
   "source": [
    "special_char = input(\"Enter special character do you want to make diamond pattern = \")"
   ]
  },
  {
   "cell_type": "code",
   "execution_count": 6,
   "id": "672b2b16",
   "metadata": {},
   "outputs": [
    {
     "name": "stdout",
     "output_type": "stream",
     "text": [
      "*\n",
      "***\n",
      "*****\n",
      "*******\n",
      "*********\n",
      "***********\n"
     ]
    }
   ],
   "source": [
    "for i in range(1, rows+1):\n",
    "    for j in range (1, rows - i +1):\n",
    "        print(end = '')\n",
    "    for k in range(0, 2* i -1):\n",
    "        print(special_char, end = '')\n",
    "    print()\n"
   ]
  },
  {
   "cell_type": "code",
   "execution_count": null,
   "id": "39ac8bc6",
   "metadata": {},
   "outputs": [],
   "source": [
    "def upper_triangle(r,s):\n",
    "    for i in range(1, r+1):\n",
    "    for j in range (1, r - i +1):\n",
    "        print(end = '')\n",
    "    for k in range(0, 2* i -1):\n",
    "        print(s, end = '')\n",
    "    print()\n",
    "    "
   ]
  },
  {
   "cell_type": "code",
   "execution_count": 7,
   "id": "b64ea6a7",
   "metadata": {},
   "outputs": [
    {
     "name": "stdout",
     "output_type": "stream",
     "text": [
      "*********\n",
      "*******\n",
      "*****\n",
      "***\n",
      "*\n"
     ]
    }
   ],
   "source": [
    "for x in range(1,rows):\n",
    "    for y in range(1, x+1):\n",
    "        print(end = '')\n",
    "    for z in range(1, (2 * (rows - x))):\n",
    "        print(special_char, end = '')\n",
    "    print()"
   ]
  },
  {
   "cell_type": "code",
   "execution_count": null,
   "id": "0c3bacf2",
   "metadata": {},
   "outputs": [],
   "source": [
    "print(\"Pattern Rows = \", rows);\n",
    "print(\"Diamond \",special_char,\" Pattern\");\n",
    "\n"
   ]
  }
 ],
 "metadata": {
  "kernelspec": {
   "display_name": "Python 3",
   "language": "python",
   "name": "python3"
  },
  "language_info": {
   "codemirror_mode": {
    "name": "ipython",
    "version": 3
   },
   "file_extension": ".py",
   "mimetype": "text/x-python",
   "name": "python",
   "nbconvert_exporter": "python",
   "pygments_lexer": "ipython3",
   "version": "3.7.4"
  }
 },
 "nbformat": 4,
 "nbformat_minor": 5
}
