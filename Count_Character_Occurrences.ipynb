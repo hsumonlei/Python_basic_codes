{
 "cells": [
  {
   "cell_type": "code",
   "execution_count": 1,
   "id": "226d7ecb",
   "metadata": {},
   "outputs": [
    {
     "name": "stdout",
     "output_type": "stream",
     "text": [
      "Enter your string : I am a programmer\n",
      "{'I': 1, ' ': 3, 'a': 3, 'm': 3, 'p': 1, 'r': 3, 'o': 1, 'g': 1, 'e': 1}\n",
      "None\n"
     ]
    }
   ],
   "source": [
    "def count_characters(s):\n",
    "    count = {}\n",
    "    for i in s:\n",
    "        if i in count:\n",
    "            count[i] += 1;\n",
    "        else:\n",
    "            count[i]=1\n",
    "    print(count)\n",
    "\n",
    "words = input(\"Enter your string : \");\n",
    "print(count_characters(words))"
   ]
  },
  {
   "cell_type": "code",
   "execution_count": 2,
   "id": "d9f3923e",
   "metadata": {},
   "outputs": [
    {
     "name": "stdout",
     "output_type": "stream",
     "text": [
      "Enter your string : I am a programmer\n",
      "{'I': 1, ' ': 3, 'a': 3, 'm': 3, 'p': 1, 'r': 3, 'o': 1, 'g': 1, 'e': 1}\n",
      "None\n"
     ]
    }
   ],
   "source": [
    "words = input(\"Enter your string : \");\n",
    "print(count_characters(words))"
   ]
  },
  {
   "cell_type": "markdown",
   "id": "a202a1fe",
   "metadata": {},
   "source": [
    "Encoding of string, with pattern [Character][Number of occurrence]"
   ]
  },
  {
   "cell_type": "code",
   "execution_count": 107,
   "id": "bd9e303c",
   "metadata": {},
   "outputs": [
    {
     "name": "stdout",
     "output_type": "stream",
     "text": [
      "A3B2C2A2\n",
      "A3B2C2B2C2D2\n"
     ]
    }
   ],
   "source": [
    "def encode_characters(ss):\n",
    "    count = 0\n",
    "    arr= []\n",
    "    for i in range(0,len(ss)):\n",
    "        if (i==0) :\n",
    "            arr.append(ss[0]);\n",
    "            count = 1;\n",
    "            #print(arr);\n",
    "            #print(\"Count Number\",count);\n",
    "        elif  ss[i] == ss[i-1] :\n",
    "            count += 1;     \n",
    "        else:\n",
    "            if (count > 0):\n",
    "                #print(arr);\n",
    "                #print(\"Count Number\",count);\n",
    "                arr.append(count);\n",
    "                arr.append(ss[i]);\n",
    "                count = 1;\n",
    "        #print(arr);\n",
    "    #print(count);\n",
    "    #print(arr);\n",
    "    #print(\"Count Number\",count);\n",
    "    arr.append(count);\n",
    "    print(\"\".join(str(x) for x in arr));\n",
    "    \n",
    "        \n",
    "    \n",
    "encode_characters('AAABBCCAA');\n",
    "\n",
    "encode_characters('AAABBCCBBCCDD');\n"
   ]
  },
  {
   "cell_type": "markdown",
   "id": "916f7f27",
   "metadata": {},
   "source": [
    "# Encoding of the encoding from Q1, with pattern [Pattern of String][Number of occurrence]"
   ]
  },
  {
   "cell_type": "code",
   "execution_count": 137,
   "id": "914b148a",
   "metadata": {},
   "outputs": [],
   "source": [
    "def encode_characters(ss):\n",
    "    print(\"Input String :\",ss);\n",
    "    count = 0\n",
    "    arr= []\n",
    "    for i in range(0,len(ss)):\n",
    "        if (i==0) :\n",
    "            arr.append(ss[0]);\n",
    "            count = 1;\n",
    "        elif  ss[i] == ss[i-1] :\n",
    "            count += 1;     \n",
    "        else:\n",
    "            if (count > 0):\n",
    "                arr.append(count);\n",
    "                arr.append(ss[i]);\n",
    "                count = 1;\n",
    "    arr.append(count);\n",
    "    #print(\"\".join(str(x) for x in arr));\n",
    "    result = \"\".join(str(x) for x in arr);\n",
    "    print(\"First Encoding result : \",result);\n",
    "    second_encode(result);"
   ]
  },
  {
   "cell_type": "code",
   "execution_count": 327,
   "id": "d3608192",
   "metadata": {},
   "outputs": [
    {
     "name": "stdout",
     "output_type": "stream",
     "text": [
      "Input String : AAABBAAACCAA\n",
      "First Encoding result :  A3B2A3C2A2\n",
      "The output [Encoding of the first encoding] is : {'A3': 2, 'B2': 1, 'C2': 1, 'A2': 1}\n",
      "<class 'dict'>\n",
      "Given dictionary: {'A3': 2, 'B2': 1, 'C2': 1, 'A2': 1}\n",
      "A32B21C21A21\n",
      "\n",
      "Input String : AAABBCCBBCCDD\n",
      "First Encoding result :  A3B2C2B2C2D2\n",
      "The output [Encoding of the first encoding] is : {'A3': 1, 'B2C2': 2, 'D2': 1}\n",
      "<class 'dict'>\n",
      "Given dictionary: {'A3': 1, 'B2C2': 2, 'D2': 1}\n",
      "A31B2C22D21\n"
     ]
    }
   ],
   "source": [
    "import numpy as np\n",
    "\n",
    "def second_encode(s):\n",
    "    #rint(s);\n",
    "    arr = [];\n",
    "    count = {};\n",
    "    temp_count = 0;\n",
    "    temp = [];\n",
    "    \n",
    "#     for i in s:\n",
    "#         print(i);\n",
    "\n",
    "#******** String to two char array***********\n",
    "    for i in range(0,len(s),2):\n",
    "        pattern = s[i]+s[i+1];\n",
    "        arr.append(pattern);\n",
    "    #print(arr);\n",
    "    \n",
    "#**********************\n",
    "    for i in arr:\n",
    "        #print(\"Initial count dictionary:\",count);\n",
    "        if i in count:\n",
    "            #print(count);\n",
    "            temp.append(i);\n",
    "            temp_count += 1;\n",
    "            count[i] += 1;\n",
    "            #print(\"The temp value :\",temp);\n",
    "            #print(temp_count);\n",
    "            if(temp_count >1 ):\n",
    "                cat = temp[0] + temp [1];\n",
    "                #print(cat);\n",
    "                #print(\"count\");\n",
    "                del count[temp[0]]; # remove entry with key 'i'\n",
    "                del count[temp[1]];\n",
    "                #print(count);\n",
    "                count[cat] = temp_count;                \n",
    "        else:\n",
    "            count[i]=1;\n",
    "            #print(\"Insert value to dictionary:\",count);\n",
    "    print(\"The output [Encoding of the first encoding] is :\",count);\n",
    "    \n",
    "    print(type(count))\n",
    "    print(f\"Given dictionary: {count}\")\n",
    "\n",
    "    # Convert the dictionary to a string\n",
    "    # using str.join() and items() function\n",
    "    #str = \", \".join(key + value for key, value in count.items())\n",
    "    result=\"\".join(str(key+str(value)) for  key, value in count.items());\n",
    "    print(result);\n",
    "\n",
    "    \n",
    "\n",
    "          \n",
    "encode_characters('AAABBAAACCAA');  \n",
    "print();\n",
    "encode_characters('AAABBCCBBCCDD');"
   ]
  },
  {
   "cell_type": "code",
   "execution_count": null,
   "id": "9fc52b9e",
   "metadata": {},
   "outputs": [],
   "source": []
  }
 ],
 "metadata": {
  "kernelspec": {
   "display_name": "Python 3",
   "language": "python",
   "name": "python3"
  },
  "language_info": {
   "codemirror_mode": {
    "name": "ipython",
    "version": 3
   },
   "file_extension": ".py",
   "mimetype": "text/x-python",
   "name": "python",
   "nbconvert_exporter": "python",
   "pygments_lexer": "ipython3",
   "version": "3.7.4"
  }
 },
 "nbformat": 4,
 "nbformat_minor": 5
}
