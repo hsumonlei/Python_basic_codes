{
 "cells": [
  {
   "cell_type": "code",
   "execution_count": 3,
   "id": "3a44a5e5",
   "metadata": {},
   "outputs": [
    {
     "name": "stdout",
     "output_type": "stream",
     "text": [
      "Enter first number90\n",
      "Enter second number30\n",
      "0\n",
      "hcf =  30\n"
     ]
    }
   ],
   "source": [
    "#The Highest Common Factor (HCF) of two or more numbers is the greatest of all their common factors. \n",
    "#Therefore, it is also called the greatest common factor (GCF).\n",
    "\n",
    "num1 = int(input(\"Enter first number\"))\n",
    "num2 = int(input(\"Enter second number\"))\n",
    "\n",
    "while num1 != 0 and num2 !=0 :\n",
    "    if num1 > num2 :\n",
    "        num1 = num1 % num2\n",
    "        #print(num1)\n",
    "    else:\n",
    "        num2 = num2 % num1\n",
    "        #print(num2)\n",
    "hcf = num1 + num2\n",
    "print (\"hcf = \", hcf)\n",
    "    \n"
   ]
  },
  {
   "cell_type": "code",
   "execution_count": null,
   "id": "3c58552a",
   "metadata": {},
   "outputs": [],
   "source": []
  }
 ],
 "metadata": {
  "kernelspec": {
   "display_name": "Python 3",
   "language": "python",
   "name": "python3"
  },
  "language_info": {
   "codemirror_mode": {
    "name": "ipython",
    "version": 3
   },
   "file_extension": ".py",
   "mimetype": "text/x-python",
   "name": "python",
   "nbconvert_exporter": "python",
   "pygments_lexer": "ipython3",
   "version": "3.7.4"
  }
 },
 "nbformat": 4,
 "nbformat_minor": 5
}
