{
 "cells": [
  {
   "cell_type": "code",
   "execution_count": null,
   "id": "6fce0128",
   "metadata": {},
   "outputs": [],
   "source": [
    "# LCM (Least Common Multiple) of two numbers is the smallest number which can be divided by both numbers. \n",
    "\n",
    "# For example, LCM of 15 and 20 is 60, and LCM of 5 and 7 is 35.\n",
    "\n",
    "\n",
    "\n",
    "# A simple solution is to find all prime factors of both numbers, \n",
    "# then find union of all factors present in both numbers. \n",
    "# Finally, return the product of elements in union.\n",
    "\n",
    "# LCM(a,b) = (a*b) / GCD(a,b)\n",
    "\n",
    "num1 = int(input(\"Enter first number\"))\n",
    "num2 = int(input(\"Enter second number\"))\n",
    "\n",
    "def GCD(num1, num2):\n",
    "    while num1 != 0 and num2 !=0 :\n",
    "    if num1 > num2 :\n",
    "        num1 = num1 % num2\n",
    "        #print(num1)\n",
    "    else:\n",
    "        num2 = num2 % num1\n",
    "        #print(num2)\n",
    "    hcf = num1 + num2\n",
    "    \n",
    "    return hcf\n",
    "\n",
    "\n",
    "result = (num1*num2) / GCD(num1,num2)\n",
    "\n",
    "print(\"The Least common multiple : LCM: \")\n",
    "\n",
    "\n",
    "    \n",
    "\n"
   ]
  }
 ],
 "metadata": {
  "kernelspec": {
   "display_name": "Python 3",
   "language": "python",
   "name": "python3"
  },
  "language_info": {
   "codemirror_mode": {
    "name": "ipython",
    "version": 3
   },
   "file_extension": ".py",
   "mimetype": "text/x-python",
   "name": "python",
   "nbconvert_exporter": "python",
   "pygments_lexer": "ipython3",
   "version": "3.7.4"
  }
 },
 "nbformat": 4,
 "nbformat_minor": 5
}
