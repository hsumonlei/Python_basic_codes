{
 "cells": [
  {
   "cell_type": "markdown",
   "id": "b76c14d9",
   "metadata": {},
   "source": [
    "**NUMBER PICKER**"
   ]
  },
  {
   "cell_type": "code",
   "execution_count": 1,
   "id": "2abc34ec",
   "metadata": {},
   "outputs": [
    {
     "name": "stdout",
     "output_type": "stream",
     "text": [
      "Min Number : 1\n",
      "Interval :1\n",
      "Max Number :5\n",
      "***********Start Spin*************\n",
      "The First Selected Number is : 1\n",
      " Remove Number After selection ? Yes(1) or No(0) 1\n",
      "***********Start Spin*************\n",
      "The Selected Number is : 4\n",
      " Remove Number After selection ? Yes(1) or No(0) 0\n",
      "***********Start Spin*************\n",
      "The Selected Number is : 1\n",
      " Remove Number After selection ? Yes(1) or No(0) 1\n",
      "***********Start Spin*************\n",
      "The Selected Number is : 5\n",
      " Remove Number After selection ? Yes(1) or No(0) 1\n",
      "***********Start Spin*************\n",
      "The Selected Number is : 3\n",
      ">>> The selected numbers are: \n",
      "[1, 4, 1, 5, 3]\n"
     ]
    }
   ],
   "source": [
    "##number picker using python\n",
    "\n",
    "import random\n",
    "\n",
    "#Initialize an empty list\n",
    "pickedNumbers = []\n",
    "\n",
    "min = int(input(\"Min Number : \"))\n",
    "interval = int(input(\"Interval :\")) \n",
    "max = int(input(\"Max Number :\"))\n",
    "\n",
    "for i in range(min,max+1,interval):\n",
    "    #print(\"Round :\",i)\n",
    "    #print(number)\n",
    "    print(\"***********Start Spin*************\")\n",
    "    if len(pickedNumbers)== 0 :\n",
    "        number = random.randint(min,max)\n",
    "        print(\"The First Selected Number is :\", number)\n",
    "        pickedNumbers.append(number)\n",
    "    else:\n",
    "        if int(ans):\n",
    "            while number in pickedNumbers:\n",
    "                number = random.randint(min,max)\n",
    "                    #Now that we have a unique number, let's append it to our list.\n",
    "                #print(\"duplicate number\",number)\n",
    "            print(\"The Selected Number is :\", number)\n",
    "            pickedNumbers.append(number)\n",
    "        else:\n",
    "            number = random.randint(min,max)\n",
    "            print(\"The Selected Number is :\", number)\n",
    "            pickedNumbers.append(number)\n",
    "            \n",
    "    if i < max : \n",
    "        ans = input(\" Remove Number After selection ? Yes(1) or No(0) \")\n",
    "\n",
    "            \n",
    "\n",
    "\n",
    "#Display the list on screen:\n",
    "print(\">>> The selected numbers are: \")\n",
    "print(pickedNumbers)\n",
    "        "
   ]
  },
  {
   "cell_type": "code",
   "execution_count": null,
   "id": "5ae35d06",
   "metadata": {},
   "outputs": [],
   "source": []
  }
 ],
 "metadata": {
  "kernelspec": {
   "display_name": "Python 3",
   "language": "python",
   "name": "python3"
  },
  "language_info": {
   "codemirror_mode": {
    "name": "ipython",
    "version": 3
   },
   "file_extension": ".py",
   "mimetype": "text/x-python",
   "name": "python",
   "nbconvert_exporter": "python",
   "pygments_lexer": "ipython3",
   "version": "3.7.4"
  }
 },
 "nbformat": 4,
 "nbformat_minor": 5
}
